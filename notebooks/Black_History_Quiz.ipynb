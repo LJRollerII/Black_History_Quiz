{
 "cells": [
  {
   "cell_type": "code",
   "execution_count": null,
   "id": "74cdc98e",
   "metadata": {},
   "outputs": [],
   "source": [
    "print(\"Welcome to the Black History Quiz\")"
   ]
  },
  {
   "cell_type": "code",
   "execution_count": null,
   "id": "16303986",
   "metadata": {
    "scrolled": false
   },
   "outputs": [],
   "source": [
    "#Add prompt\n",
    "playing = input (\"Would you like to play? \")\n",
    "\n",
    "if playing.lower() != \"yes\":\n",
    " quit()\n",
    "\n",
    "print(\"Great! Let's Play :)\")\n",
    "score = 0"
   ]
  },
  {
   "cell_type": "code",
   "execution_count": null,
   "id": "0350b43d",
   "metadata": {},
   "outputs": [],
   "source": [
    "answer = input(\"What City goes by the nickname of Chocolate City? \")\n",
    "\n",
    "if answer.lower() == \"washington dc\":\n",
    "    print('Correct!')\n",
    "    score += 1\n",
    "else:\n",
    "    print('Incorrect!')"
   ]
  },
  {
   "cell_type": "code",
   "execution_count": null,
   "id": "77556189",
   "metadata": {},
   "outputs": [],
   "source": [
    "answer = input(\"What Major League Baseball team did Jackie Robinson play for? \")\n",
    "\n",
    "if answer.lower() == \"brooklyn dodgers\":\n",
    "    print('Correct!')\n",
    "    score += 1\n",
    "else:\n",
    "    print('Incorrect!')"
   ]
  },
  {
   "cell_type": "code",
   "execution_count": null,
   "id": "077f3f28",
   "metadata": {},
   "outputs": [],
   "source": [
    "answer = input(\"What American federal holiday was signed into law on June 17, 2021 commemorating the emancipation of enslaved African Americans? \")\n",
    "\n",
    "if answer.lower() == \"juneteenth\":\n",
    "    print('Correct!')\n",
    "    score += 1\n",
    "else:\n",
    "    print('Incorrect!')"
   ]
  },
  {
   "cell_type": "code",
   "execution_count": null,
   "id": "5428a007",
   "metadata": {},
   "outputs": [],
   "source": [
    "answer = input(\"What is the name of the Black National Anthem? \")\n",
    "\n",
    "if answer.lower() == \"lift every voice and sing\":\n",
    "    print('Correct!')\n",
    "    score += 1\n",
    "else:\n",
    "    print('Incorrect!')"
   ]
  },
  {
   "cell_type": "code",
   "execution_count": null,
   "id": "25cbb7c2",
   "metadata": {},
   "outputs": [],
   "source": [
    "answer = input(\"Who invented the traffic light and gas mask? \")\n",
    "\n",
    "if answer.lower() == \"garrett morgan\":\n",
    "    print('Correct!')\n",
    "    score += 1\n",
    "else:\n",
    "    print('Incorrect!')"
   ]
  },
  {
   "cell_type": "code",
   "execution_count": null,
   "id": "a508fc4a",
   "metadata": {},
   "outputs": [],
   "source": [
    "answer = input(\"Who was the first female self-made millionaire in America? \")\n",
    "\n",
    "if answer.lower() == \"madam cj walker\":\n",
    "    print('Correct!')\n",
    "    score += 1\n",
    "else:\n",
    "    print('Incorrect!')"
   ]
  },
  {
   "cell_type": "code",
   "execution_count": null,
   "id": "35272f01",
   "metadata": {},
   "outputs": [],
   "source": [
    "answer = input(\"What does HBCU stand for? \")\n",
    "\n",
    "if answer.lower() == \"historically black colleges and universities\":\n",
    "    print('Correct!')\n",
    "    score += 1\n",
    "else:\n",
    "    print('Incorrect!')"
   ]
  },
  {
   "cell_type": "code",
   "execution_count": null,
   "id": "2f4c875a",
   "metadata": {},
   "outputs": [],
   "source": [
    "answer = input(\"Who was the first documented Black Greek Letter Organization? \")\n",
    "\n",
    "if answer == \"alpha kappa nu\":\n",
    "    print('Correct!')\n",
    "    score += 1\n",
    "else:\n",
    "    print('Incorrect!')"
   ]
  },
  {
   "cell_type": "code",
   "execution_count": null,
   "id": "3549624b",
   "metadata": {},
   "outputs": [],
   "source": [
    "answer = input(\"What was the name of the route used by enslaved African Americans primarily to escape into free states and Canada? \")\n",
    "\n",
    "if answer.lower() == \"underground railroad\":\n",
    "    print('Correct!')\n",
    "    score += 1\n",
    "else:\n",
    "    print('Incorrect!')"
   ]
  },
  {
   "cell_type": "code",
   "execution_count": null,
   "id": "11c58b11",
   "metadata": {},
   "outputs": [],
   "source": [
    "answer = input(\"What popular musical variety television show was hosted and created by Don Cornelius? \")\n",
    "\n",
    "if answer.lower() == \"soul train\":\n",
    "    print('Correct!')\n",
    "    score += 1\n",
    "else:\n",
    "    print('Incorrect!')"
   ]
  },
  {
   "cell_type": "code",
   "execution_count": null,
   "id": "7758198a",
   "metadata": {},
   "outputs": [],
   "source": [
    "answer = input(\"What country has the largest black population outside the continent of Africa? \")\n",
    "\n",
    "if answer.lower() == \"brazil\":\n",
    "    print('Correct!')\n",
    "    score += 1\n",
    "else:\n",
    "    print('Incorrect!')"
   ]
  },
  {
   "cell_type": "code",
   "execution_count": null,
   "id": "6eec1922",
   "metadata": {},
   "outputs": [],
   "source": [
    "answer = input(\"Who was the first black samurai? \")\n",
    "\n",
    "if answer.lower() == \"yasuke\":\n",
    "    print('Correct!')\n",
    "    score += 1\n",
    "else:\n",
    "    print('Incorrect!')"
   ]
  },
  {
   "cell_type": "code",
   "execution_count": null,
   "id": "6a8fb501",
   "metadata": {},
   "outputs": [],
   "source": [
    "answer = input(\"What genre of music created by African-Americans originated in New Orleans? \")\n",
    "\n",
    "if answer.lower() == \"jazz\":\n",
    "    print('Correct!')\n",
    "    score += 1\n",
    "else:\n",
    "    print('Incorrect!')"
   ]
  },
  {
   "cell_type": "code",
   "execution_count": null,
   "id": "8c00e3f5",
   "metadata": {},
   "outputs": [],
   "source": [
    "answer = input(\"Who was the first African-American child to integrate an elementary school in the South? \")\n",
    "\n",
    "if answer.lower() == \"ruby bridges\":\n",
    "    print('Correct!')\n",
    "    score += 1\n",
    "else:\n",
    "    print('Incorrect!')"
   ]
  },
  {
   "cell_type": "code",
   "execution_count": null,
   "id": "c75df738",
   "metadata": {},
   "outputs": [],
   "source": [
    "answer = input(\"Who is the author of the poem And Still I Rise? \")\n",
    "\n",
    "if answer.lower() == \"maya angelou\":\n",
    "    print('Correct!')\n",
    "    score += 1\n",
    "else:\n",
    "    print('Incorrect!')"
   ]
  },
  {
   "cell_type": "code",
   "execution_count": null,
   "id": "de98a09e",
   "metadata": {},
   "outputs": [],
   "source": [
    "answer = input(\"In what Alabama city did a bus boycott take place after Rosa Parks was arrested for refusing to surrender her seat? \")\n",
    "\n",
    "if answer.lower() == \"montgomery\":\n",
    "    print('Correct!')\n",
    "    score += 1\n",
    "else:\n",
    "    print('Incorrect!')"
   ]
  },
  {
   "cell_type": "code",
   "execution_count": null,
   "id": "5f96de3f",
   "metadata": {},
   "outputs": [],
   "source": [
    "answer = input(\"What is the name of the HBCU that produced famous almuni such as Thurgood Marshall, Phylicia Rashad, Chadwick Boseman, and Kamala Harris? \")\n",
    "\n",
    "if answer.lower() == \"howard university\":\n",
    "    print('Correct!')\n",
    "    score += 1\n",
    "else:\n",
    "    print('Incorrect!')"
   ]
  },
  {
   "cell_type": "code",
   "execution_count": null,
   "id": "6bce369a",
   "metadata": {},
   "outputs": [],
   "source": [
    "answer = input(\"Bobby Seale and Huey P. Newton were the cofounders of what political organization? \")\n",
    "\n",
    "if answer.lower() == \"black panter party\":\n",
    "    print('Correct!')\n",
    "    score += 1\n",
    "else:\n",
    "    print('Incorrect!')"
   ]
  },
  {
   "cell_type": "code",
   "execution_count": null,
   "id": "619c3c39",
   "metadata": {},
   "outputs": [],
   "source": [
    "answer = input(\"Dr. Charles Richard Drew was a surgeon and medical researcher known for first oragnizing what type of bank in America? \")\n",
    "\n",
    "if answer.lower() == \"blood\":\n",
    "    print('Correct!')\n",
    "    score += 1\n",
    "else:\n",
    "    print('Incorrect!')"
   ]
  },
  {
   "cell_type": "code",
   "execution_count": null,
   "id": "c45f83a8",
   "metadata": {},
   "outputs": [],
   "source": [
    "answer = input(\"The group of African-American military pilots and airmen who fought in World War II were known as? \")\n",
    "\n",
    "if answer.lower() == \"tuskegee airmen\":\n",
    "    print('Correct!')\n",
    "    score += 1\n",
    "else:\n",
    "    print('Incorrect!')"
   ]
  },
  {
   "cell_type": "code",
   "execution_count": null,
   "id": "cf400d77",
   "metadata": {},
   "outputs": [],
   "source": [
    "print(\"You got \" + str(score) + \" questions correct!\")"
   ]
  },
  {
   "cell_type": "code",
   "execution_count": null,
   "id": "674f13c9",
   "metadata": {},
   "outputs": [],
   "source": [
    "print(\"You got \" + str((score/20) *100) + \"%.\")"
   ]
  },
  {
   "cell_type": "code",
   "execution_count": null,
   "id": "5ad68878",
   "metadata": {},
   "outputs": [],
   "source": [
    "print(\"Thanks for playing!\")"
   ]
  }
 ],
 "metadata": {
  "kernelspec": {
   "display_name": "Python 3 (ipykernel)",
   "language": "python",
   "name": "python3"
  },
  "language_info": {
   "codemirror_mode": {
    "name": "ipython",
    "version": 3
   },
   "file_extension": ".py",
   "mimetype": "text/x-python",
   "name": "python",
   "nbconvert_exporter": "python",
   "pygments_lexer": "ipython3",
   "version": "3.9.7"
  }
 },
 "nbformat": 4,
 "nbformat_minor": 5
}
