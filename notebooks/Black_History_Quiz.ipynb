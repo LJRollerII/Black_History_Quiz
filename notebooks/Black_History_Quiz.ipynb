{
 "cells": [
  {
   "cell_type": "code",
   "execution_count": null,
   "id": "74cdc98e",
   "metadata": {},
   "outputs": [],
   "source": [
    "print(\"Welcome to the Black History Quiz\")"
   ]
  },
  {
   "cell_type": "code",
   "execution_count": null,
   "id": "16303986",
   "metadata": {},
   "outputs": [],
   "source": [
    "#Add prompt\n",
    "playing = input (\"Would you like to play? \")\n",
    "\n",
    "if playing != \"yes\":\n",
    " quit()\n",
    "\n",
    "print(\"Great! Let's Play :)\")"
   ]
  },
  {
   "cell_type": "code",
   "execution_count": null,
   "id": "0350b43d",
   "metadata": {},
   "outputs": [],
   "source": [
    "answer = input(\"What City goes by the nickname of Chocolate City? \")\n",
    "\n",
    "if answer == \"washington dc\":\n",
    "    print('Correct!')\n",
    "else:\n",
    "    print('Incorrect!')"
   ]
  },
  {
   "cell_type": "code",
   "execution_count": null,
   "id": "77556189",
   "metadata": {},
   "outputs": [],
   "source": [
    "answer = input(\"What Major League Baseball team did Jackie Robinson play for? \")\n",
    "\n",
    "if answer == \"brooklyn dodgers\":\n",
    "    print('Correct!')\n",
    "else:\n",
    "    print('Incorrect!')"
   ]
  },
  {
   "cell_type": "code",
   "execution_count": null,
   "id": "077f3f28",
   "metadata": {},
   "outputs": [],
   "source": [
    "answer = input(\"What federal holiday was signed into law on June 17, 2021 commemorating the emancipation of enslaved African Americans? \")\n",
    "\n",
    "if answer == \"juneteenth\":\n",
    "    print('Correct!')\n",
    "else:\n",
    "    print('Incorrect!')"
   ]
  },
  {
   "cell_type": "code",
   "execution_count": null,
   "id": "5428a007",
   "metadata": {},
   "outputs": [],
   "source": [
    "answer = input(\"What is the name of the Black National Anthem? \")\n",
    "\n",
    "if answer == \"lift every voice and sing\":\n",
    "    print('Correct!')\n",
    "else:\n",
    "    print('Incorrect!')"
   ]
  },
  {
   "cell_type": "code",
   "execution_count": null,
   "id": "25cbb7c2",
   "metadata": {},
   "outputs": [],
   "source": [
    "answer = input(\"Who invented the traffic light and gas mask? \")\n",
    "\n",
    "if answer == \"garrett morgan\":\n",
    "    print('Correct!')\n",
    "else:\n",
    "    print('Incorrect!')"
   ]
  },
  {
   "cell_type": "code",
   "execution_count": null,
   "id": "a508fc4a",
   "metadata": {},
   "outputs": [],
   "source": [
    "answer = input(\"Who was the first female self-made millionaire in America? \")\n",
    "\n",
    "if answer == \"madame cj walker\":\n",
    "    print('Correct!')\n",
    "else:\n",
    "    print('Incorrect!')"
   ]
  },
  {
   "cell_type": "code",
   "execution_count": null,
   "id": "35272f01",
   "metadata": {},
   "outputs": [],
   "source": [
    "answer = input(\"What does HBCU stand for? \")\n",
    "\n",
    "if answer == \"historically black colleges and universities\":\n",
    "    print('Correct!')\n",
    "else:\n",
    "    print('Incorrect!')"
   ]
  },
  {
   "cell_type": "code",
   "execution_count": null,
   "id": "2f4c875a",
   "metadata": {},
   "outputs": [],
   "source": [
    "answer = input(\"Who was the first documented Black Greek Letter Organization? \")\n",
    "\n",
    "if answer == \"alpha kappa nu\":\n",
    "    print('Correct!')\n",
    "else:\n",
    "    print('Incorrect!')"
   ]
  },
  {
   "cell_type": "code",
   "execution_count": null,
   "id": "3549624b",
   "metadata": {},
   "outputs": [],
   "source": [
    "answer = input(\"What was the name of the route used by enslaved African Americans primarily to escape into free states and Canada? \")\n",
    "\n",
    "if answer == \"underground railroad\":\n",
    "    print('Correct!')\n",
    "else:\n",
    "    print('Incorrect!')"
   ]
  },
  {
   "cell_type": "code",
   "execution_count": null,
   "id": "11c58b11",
   "metadata": {},
   "outputs": [],
   "source": [
    "answer = input(\"What popular musical variety television show was hosted and created by Don Cornelius ? \")\n",
    "\n",
    "if answer == \"soul train\":\n",
    "    print('Correct!')\n",
    "else:\n",
    "    print('Incorrect!')"
   ]
  },
  {
   "cell_type": "code",
   "execution_count": null,
   "id": "cf400d77",
   "metadata": {},
   "outputs": [],
   "source": []
  }
 ],
 "metadata": {
  "kernelspec": {
   "display_name": "Python 3 (ipykernel)",
   "language": "python",
   "name": "python3"
  },
  "language_info": {
   "codemirror_mode": {
    "name": "ipython",
    "version": 3
   },
   "file_extension": ".py",
   "mimetype": "text/x-python",
   "name": "python",
   "nbconvert_exporter": "python",
   "pygments_lexer": "ipython3",
   "version": "3.9.7"
  }
 },
 "nbformat": 4,
 "nbformat_minor": 5
}
